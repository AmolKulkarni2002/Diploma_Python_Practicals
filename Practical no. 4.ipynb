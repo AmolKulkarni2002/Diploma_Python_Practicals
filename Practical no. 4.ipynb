{
 "cells": [
  {
   "cell_type": "markdown",
   "metadata": {},
   "source": [
    "## 1. Write a program to check whether a number is even or odd"
   ]
  },
  {
   "cell_type": "code",
   "execution_count": 1,
   "metadata": {},
   "outputs": [
    {
     "name": "stdout",
     "output_type": "stream",
     "text": [
      "Enter the number: 22\n",
      "It is even no.\n"
     ]
    }
   ],
   "source": [
    "a=int(input(\"Enter the number: \"))\n",
    "print(\"It is even no.\") if a%2==0 else print(\"It is odd no.\")"
   ]
  },
  {
   "cell_type": "markdown",
   "metadata": {},
   "source": [
    "## 2. Write a program to find out absolute value of an input number"
   ]
  },
  {
   "cell_type": "code",
   "execution_count": null,
   "metadata": {},
   "outputs": [],
   "source": [
    "x=int(input(\"Enter the integer: \"))\n",
    "y=x\n",
    "if x<0:\n",
    "    x=-x\n",
    "print(\"Enter\",y,\"\",x)\n",
    "\n",
    "'''x = int(input(\"enter the integer: \"))\n",
    "y=abs(x)\n",
    "print(x,\"=\",y)'''\n",
    "    "
   ]
  },
  {
   "cell_type": "markdown",
   "metadata": {},
   "source": [
    "## 3. Write a program to check the largest number among the three numbers"
   ]
  },
  {
   "cell_type": "code",
   "execution_count": null,
   "metadata": {},
   "outputs": [],
   "source": [
    "b=int(input(\"Enter the number for B: \"))\n",
    "c=int(input(\"Enter the number for C: \"))\n",
    "\n",
    "if a>b and a>c:\n",
    "     print(\"A is greatest among B and C\")\n",
    "\n",
    "elif b>a and b>c:\n",
    "     print(\"B is greatest among A and C\")\n",
    "\n",
    "elif c>a and c>b:\n",
    "     print(\"C is greatest among A and B\")\n",
    "\n",
    "else:\n",
    "     print(\"all number are same\")"
   ]
  },
  {
   "cell_type": "markdown",
   "metadata": {},
   "source": [
    "## 4. Write a program to check if the input year is a leap year of not"
   ]
  },
  {
   "cell_type": "code",
   "execution_count": null,
   "metadata": {},
   "outputs": [],
   "source": [
    "year = int(input(\"Enter Year: \"))\n",
    "if year % 4 == 0 and year % 100 != 0:\n",
    "    print(year, \"is a Leap Year\")\n",
    "elif year % 100 == 0:\n",
    "    print(year, \"is not a Leap Year\")\n",
    "elif year % 400 ==0:\n",
    "    print(year, \"is a Leap Year\")\n",
    "else:\n",
    "    print(year, \"is not a Leap Year\")"
   ]
  },
  {
   "cell_type": "markdown",
   "metadata": {},
   "source": [
    "## 5. Write a program to check if a Number is Positive, Negative or Zero"
   ]
  },
  {
   "cell_type": "code",
   "execution_count": null,
   "metadata": {},
   "outputs": [],
   "source": [
    "x=int(input(\"Enter the number: \"))\n",
    "if x>0:\n",
    "    print(\"positive no.\")\n",
    "elif x==0:\n",
    "    print(\"zero no.\")\n",
    "else:\n",
    "    print(\"negative no.\")"
   ]
  },
  {
   "cell_type": "markdown",
   "metadata": {},
   "source": [
    "## 6. Write a program that takes the marks of 5 subjects and displays the grade.\n"
   ]
  },
  {
   "cell_type": "code",
   "execution_count": null,
   "metadata": {},
   "outputs": [],
   "source": [
    "sub1=int(input(\"Enter the marks for subject 1: \"))\n",
    "sub2=int(input(\"Enter the marks for subject 2: \"))\n",
    "sub3=int(input(\"Enter the marks for subject 3: \"))\n",
    "sub4=int(input(\"Enter the marks for subject 4: \"))\n",
    "sub5=int(input(\"Enter the marks for subject 5: \"))\n",
    "\n",
    "avg=(sub1+sub2+sub3+sub4+sub5)/5\n",
    "\n",
    "if (avg>=90):\n",
    "    print(\"Grade:A\")\n",
    "elif(avg>=80 and avg<=90):\n",
    "    print(\"Grade:B\")\n",
    "elif(avg>=70 and avg<=80):\n",
    "    print(\"Grade:C\")\n",
    "elif(avg>=60 and avg<=70):\n",
    "    print(\"Grade:D\")\n",
    "elif(avg>=35 and avg<=60):\n",
    "    print(\"Grade:E\")\n",
    "else:\n",
    "    print(\"You failed\")\n"
   ]
  }
 ],
 "metadata": {
  "kernelspec": {
   "display_name": "Python 3",
   "language": "python",
   "name": "python3"
  },
  "language_info": {
   "codemirror_mode": {
    "name": "ipython",
    "version": 3
   },
   "file_extension": ".py",
   "mimetype": "text/x-python",
   "name": "python",
   "nbconvert_exporter": "python",
   "pygments_lexer": "ipython3",
   "version": "3.8.5"
  }
 },
 "nbformat": 4,
 "nbformat_minor": 4
}
