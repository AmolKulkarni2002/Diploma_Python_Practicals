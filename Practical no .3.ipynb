{
 "cells": [
  {
   "cell_type": "markdown",
   "metadata": {},
   "source": [
    "## 1.Write a program to convert US dollars to Indian rupees."
   ]
  },
  {
   "cell_type": "code",
   "execution_count": null,
   "metadata": {},
   "outputs": [],
   "source": [
    "usd=int(input(\"Enter the US dollar:\"))\n",
    "inr=usd*74\n",
    "print(\"Indian Rupees:\",inr)"
   ]
  },
  {
   "cell_type": "markdown",
   "metadata": {},
   "source": [
    "## 2.Write a program to convert bits to Megabytes, Gigabytes and Terabytes"
   ]
  },
  {
   "cell_type": "code",
   "execution_count": null,
   "metadata": {},
   "outputs": [],
   "source": [
    "bits=int(input(\"Enter the no:\"))\n",
    "byte=bits/8\n",
    "kb=byte/1024\n",
    "mb=kb/1024\n",
    "gb=mb/1024\n",
    "tb=gb/1024\n",
    "print(\"byte:\",byte)\n",
    "print(\"kb:\",kb)\n",
    "print(\"mb:\",mb)\n",
    "print(\"gb:\",gb)\n",
    "print(\"tb:\",tb)"
   ]
  },
  {
   "cell_type": "markdown",
   "metadata": {},
   "source": [
    "## 3.Write a program to Find the square root  of a number."
   ]
  },
  {
   "cell_type": "code",
   "execution_count": null,
   "metadata": {},
   "outputs": [],
   "source": [
    "num=int(input(\"Enter the number:\"))\n",
    "sqrt=int(num**0.5)\n",
    "print(\"Square root no. is:\",sqrt)"
   ]
  },
  {
   "cell_type": "markdown",
   "metadata": {},
   "source": [
    "## 4.Write a program to find the area of Rectangle"
   ]
  },
  {
   "cell_type": "code",
   "execution_count": null,
   "metadata": {},
   "outputs": [],
   "source": [
    "width = float(input('Please Enter the Width of a Rectangle: '))\n",
    "height = float(input('Please Enter the Height of a Rectangle: '))\n",
    "Area = int(width * height)\n",
    "print(\"Area of Rectangle:\",Area)"
   ]
  },
  {
   "cell_type": "markdown",
   "metadata": {},
   "source": [
    "## 5.Write a program to calculatr area and perimeter of the square"
   ]
  },
  {
   "cell_type": "code",
   "execution_count": null,
   "metadata": {},
   "outputs": [],
   "source": [
    "side= int (input (\"Enter the side of a square: \" ))\n",
    "area = side*side \n",
    "perimeter = 4*side\n",
    "print(\"Area of a square : \",area)\n",
    "print(\"Perimeter of a square : \",perimeter)"
   ]
  },
  {
   "cell_type": "markdown",
   "metadata": {},
   "source": [
    "## 6.Write a program to calculate surface volume and area of cylinder"
   ]
  },
  {
   "cell_type": "code",
   "execution_count": null,
   "metadata": {},
   "outputs": [],
   "source": [
    "r=int(input(\"Enter the Radius of cylinder: \"))\n",
    "h=int(input(\"Enter the Height of cylinder: \"))\n",
    "pi=3.14\n",
    "print(\"Volume of cylinder: \",pi*r**2*h)\n",
    "print(\"Area of cylinder: \",pi*r**2+2*pi*r*h)"
   ]
  },
  {
   "cell_type": "markdown",
   "metadata": {},
   "source": [
    "## 7.Write a program to swap the value of two number"
   ]
  },
  {
   "cell_type": "code",
   "execution_count": null,
   "metadata": {},
   "outputs": [],
   "source": [
    "a =int(input(\"Enter the number for A: \")) \n",
    "b =int(input(\"Enter the number for B: \"))\n",
    "temp = a\n",
    "a = b\n",
    "b = temp\n",
    "print(\"The value of a after swapping:{}\".format(a))\n",
    "print(\"The value of b after swapping:{}\".format(b))"
   ]
  }
 ],
 "metadata": {
  "kernelspec": {
   "display_name": "Python 3",
   "language": "python",
   "name": "python3"
  },
  "language_info": {
   "codemirror_mode": {
    "name": "ipython",
    "version": 3
   },
   "file_extension": ".py",
   "mimetype": "text/x-python",
   "name": "python",
   "nbconvert_exporter": "python",
   "pygments_lexer": "ipython3",
   "version": "3.8.5"
  }
 },
 "nbformat": 4,
 "nbformat_minor": 4
}
