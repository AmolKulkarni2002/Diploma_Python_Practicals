{
 "cells": [
  {
   "cell_type": "markdown",
   "metadata": {},
   "source": [
    "## 1.Write a Python program to create a class to print an integer and a character with two methods having the same name but different sequence of the integer and the character parameters. For example, if the parameters of the first method are of the form (int n, char c), then that of the second method will be of the form (char c, int n) "
   ]
  },
  {
   "cell_type": "code",
   "execution_count": 1,
   "metadata": {},
   "outputs": [
    {
     "name": "stdout",
     "output_type": "stream",
     "text": [
      "Method 1 execute: 182 amol\n",
      "Method 2 execute: amol 182\n"
     ]
    }
   ],
   "source": [
    "class IntChar:\n",
    "    def data_int(self,a,b):\n",
    "        print(\"Method 1 execute:\",a,b)\n",
    "\n",
    "    def data_char(self,b,a):\n",
    "        print(\"Method 2 execute:\",b,a)\n",
    "    \n",
    "s=IntChar()\n",
    "s.data_int(182,\"amol\")\n",
    "s.data_char(\"amol\",182)"
   ]
  },
  {
   "cell_type": "markdown",
   "metadata": {},
   "source": [
    "## 2. Write a Python program to create a class to print the area of a square and a rectangle. The class has two methods with the same name but different number of parameters. The method for printing area of rectangle has two parameters which are length and breadth respectively while the other method for printing area of square has one parameter which is side of square."
   ]
  },
  {
   "cell_type": "code",
   "execution_count": 2,
   "metadata": {},
   "outputs": [
    {
     "name": "stdout",
     "output_type": "stream",
     "text": [
      "Area of rectangel 8\n",
      "Area of square 4\n"
     ]
    }
   ],
   "source": [
    "class areaOfSquareandRectange:\n",
    "     def area_of_reactange(self,length,width):\n",
    "         print(\"Area of rectangel\",length*width)\n",
    "     \n",
    "     def area_of_square(self,side):\n",
    "         print(\"Area of square\",side*side)\n",
    "\n",
    "a=areaOfSquareandRectange()\n",
    "a.area_of_reactange(2,4)\n",
    "a.area_of_square(2)"
   ]
  },
  {
   "cell_type": "markdown",
   "metadata": {},
   "source": [
    "## 3. Write a Python program to create a class 'Degree' having a method 'getDegree' that prints \"I got a degree\". It has two subclasses namely 'Undergraduate' and 'Postgraduate' each having a method with the same name that prints \"I am an Undergraduate\" and \"I am a Postgraduate\" respectively. Call the method by creating an object of each of the three classes"
   ]
  },
  {
   "cell_type": "code",
   "execution_count": 3,
   "metadata": {},
   "outputs": [
    {
     "name": "stdout",
     "output_type": "stream",
     "text": [
      "I got the degree, I am an undergraduate\n",
      "I got the degree, I am a postgraduate\n"
     ]
    }
   ],
   "source": [
    "class degree:\n",
    "    def getdegree(self):\n",
    "       print(\"I got the degree,\",end=\"\")\n",
    "\n",
    "class undergraduate(degree):\n",
    "    def showdegree(self):\n",
    "        self.getdegree()\n",
    "        print(\" I am an undergraduate\")\n",
    "\n",
    "class postgraduate(degree):\n",
    "    def showdegree(self):\n",
    "        self.getdegree()\n",
    "        print(\" I am a postgraduate\")\n",
    "\n",
    "\n",
    "u=undergraduate()\n",
    "u.showdegree()\n",
    "p=postgraduate()\n",
    "p.showdegree()"
   ]
  },
  {
   "cell_type": "code",
   "execution_count": null,
   "metadata": {},
   "outputs": [],
   "source": []
  }
 ],
 "metadata": {
  "kernelspec": {
   "display_name": "Python 3",
   "language": "python",
   "name": "python3"
  },
  "language_info": {
   "codemirror_mode": {
    "name": "ipython",
    "version": 3
   },
   "file_extension": ".py",
   "mimetype": "text/x-python",
   "name": "python",
   "nbconvert_exporter": "python",
   "pygments_lexer": "ipython3",
   "version": "3.8.5"
  }
 },
 "nbformat": 4,
 "nbformat_minor": 4
}
