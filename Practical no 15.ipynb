{
 "cells": [
  {
   "cell_type": "markdown",
   "metadata": {},
   "source": [
    "## 1. Create a class Employee with data members: name, department and salary. Create suitable methods for reading and printing employee information\n"
   ]
  },
  {
   "cell_type": "code",
   "execution_count": 1,
   "metadata": {},
   "outputs": [
    {
     "name": "stdout",
     "output_type": "stream",
     "text": [
      "Enter the name: Amol Kulkarni\n",
      "Enter the department: CM\n",
      "Enter salary: 100000\n",
      "Employee name:-  Amol Kulkarni\n",
      "Employee department:-  CM\n",
      "Employee salary:-  100000\n"
     ]
    }
   ],
   "source": [
    "class Employee:\n",
    "    def __init__(self):\n",
    "        self.name=input(\"Enter the name: \")\n",
    "        self.dept=input(\"Enter the department: \")\n",
    "        self.sal=input(\"Enter salary: \")\n",
    "        self.data()\n",
    "    \n",
    "    def data(self):\n",
    "        print(\"Employee name:- \",self.name)\n",
    "        print(\"Employee department:- \",self.dept)\n",
    "        print(\"Employee salary:- \",self.sal)\n",
    "\n",
    "e=Employee()"
   ]
  },
  {
   "cell_type": "markdown",
   "metadata": {},
   "source": [
    "## 2. Python program to read and print students information using two classes using simple inheritance."
   ]
  },
  {
   "cell_type": "code",
   "execution_count": 2,
   "metadata": {},
   "outputs": [
    {
     "name": "stdout",
     "output_type": "stream",
     "text": [
      "Enter the name: Amol\n",
      "Enter the class: TYCM\n",
      "Enter the roll no.: 182\n",
      "Enter the branch: CM\n",
      "Student name:  Amol\n",
      "Student class:  TYCM\n",
      "Student roll number:  CM\n",
      "Student branch:  CM\n"
     ]
    }
   ],
   "source": [
    "class info_student():\n",
    "    def __init__(self):\n",
    "        self.name=input(\"Enter the name: \")\n",
    "        self.cls=input(\"Enter the class: \")\n",
    "        self.roll=input(\"Enter the roll no.: \")\n",
    "        self.branch=input(\"Enter the branch: \")\n",
    "        self.data()\n",
    "\n",
    "class student(info_student):\n",
    "    def data(self):\n",
    "        print(\"Student name: \",self.name)\n",
    "        print(\"Student class: \",self.cls)\n",
    "        print(\"Student roll number: \",self.branch)\n",
    "        print(\"Student branch: \",self.branch)\n",
    "        \n",
    "        \n",
    "i=student()"
   ]
  },
  {
   "cell_type": "markdown",
   "metadata": {},
   "source": [
    "## 3. Write a Python program to implement multiple inheritance "
   ]
  },
  {
   "cell_type": "code",
   "execution_count": 3,
   "metadata": {},
   "outputs": [
    {
     "name": "stdout",
     "output_type": "stream",
     "text": [
      "Enter the required length for rectangle: 2\n",
      "Enter the required breadth for rectangle: 4\n",
      "The area of rectangle with length 2 units and breadth 4 units is 8 sq. units.\n"
     ]
    }
   ],
   "source": [
    "class length:\n",
    "  l = 0\n",
    "  def length(self):\n",
    "     return self.l\n",
    "class breadth:\n",
    "  b = 0\n",
    "  def breadth(self):\n",
    "    return self.b\n",
    "class rect_area(length, breadth):\n",
    "    def r_area(self):\n",
    "     print(\"The area of rectangle with length \"+str(self.l)+\" units and breadth \"+\n",
    "     str(self.b)+\" units is \"+str(self.l * self.b)+\" sq. units.\")\n",
    "     \n",
    "o = rect_area()\n",
    "o.l = int(input(\"Enter the required length for rectangle: \"))\n",
    "o.b = int(input(\"Enter the required breadth for rectangle: \"))\n",
    "o.r_area()"
   ]
  },
  {
   "cell_type": "code",
   "execution_count": null,
   "metadata": {},
   "outputs": [],
   "source": []
  }
 ],
 "metadata": {
  "kernelspec": {
   "display_name": "Python 3",
   "language": "python",
   "name": "python3"
  },
  "language_info": {
   "codemirror_mode": {
    "name": "ipython",
    "version": 3
   },
   "file_extension": ".py",
   "mimetype": "text/x-python",
   "name": "python",
   "nbconvert_exporter": "python",
   "pygments_lexer": "ipython3",
   "version": "3.8.5"
  }
 },
 "nbformat": 4,
 "nbformat_minor": 4
}
