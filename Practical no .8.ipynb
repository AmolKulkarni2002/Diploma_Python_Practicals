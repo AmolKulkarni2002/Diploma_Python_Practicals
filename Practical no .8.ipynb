{
 "cells": [
  {
   "cell_type": "markdown",
   "metadata": {},
   "source": [
    "## 1.Write a Python program to create a set, add member(s) in a set and remove one item from set"
   ]
  },
  {
   "cell_type": "code",
   "execution_count": 17,
   "metadata": {},
   "outputs": [
    {
     "name": "stdout",
     "output_type": "stream",
     "text": [
      "set()\n",
      "before adding set()\n",
      "before adding {1, 4}\n",
      "before adding {1, 2, 4}\n",
      "After adding:  {1, 2, 3, 4}\n",
      "After removing: {2, 3, 4}\n"
     ]
    }
   ],
   "source": [
    "s=set()\n",
    "lst=list([1,2,3])\n",
    "print(s)\n",
    "for i in lst:\n",
    "    s.add(i)\n",
    "    s.add(4)\n",
    "print(\"After adding: \",s)\n",
    "s.remove(1)\n",
    "print(\"After removing:\",s)"
   ]
  },
  {
   "cell_type": "markdown",
   "metadata": {},
   "source": [
    "## 2. Write a Python program to perform following operations on set: intersection of sets, union of sets, set difference, symmetric difference, clear a set.\n"
   ]
  },
  {
   "cell_type": "code",
   "execution_count": 28,
   "metadata": {},
   "outputs": [
    {
     "name": "stdout",
     "output_type": "stream",
     "text": [
      "Intersection of sets:  {'1'}\n",
      "union of  set1 and set2 :  {1, 2, 3, 4, 5, 6, 7}\n",
      "union of set1 , set2 and  set3 : {1, 2, 3, 4, 5, 6, 7, 8, 9, 10}\n",
      "symmetric difference:  {1, 3, 6, 7}\n",
      "Before clear:  {0, 1, 4, 6}\n",
      "After clear:  set()\n"
     ]
    }
   ],
   "source": [
    "#intersection of sets\n",
    "s1 = {\"1\", \"2\", \"3\"}\n",
    "s2 = {\"4\", \"5\", \"1\"}\n",
    "s3 = s1.intersection(s2)\n",
    "print(\"Intersection of sets: \",s3)\n",
    "\n",
    "#union of sets\n",
    "set1 = {1, 2, 3, 4} \n",
    "set2 = {4, 5, 6, 7} \n",
    "set3 = {7, 8, 9, 10}\n",
    "print(\"union of  set1 and set2 : \", set1.union(set2))\n",
    "print(\"union of set1 , set2 and  set3 :\", set1.union(set2, set3))\n",
    "\n",
    "#symmetric difference\n",
    "set1 = {1, 2, 3, 4, 8}\n",
    "set2 = {6, 7, 2, 8, 4}\n",
    "print(\"symmetric difference: \",set1.symmetric_difference(set2))\n",
    "\n",
    "#clear a set\n",
    "s = {6, 0, 4, 1}\n",
    "print(\"Before clear: \",s)\n",
    "s.clear()\n",
    "print(\"After clear: \",s) "
   ]
  },
  {
   "cell_type": "markdown",
   "metadata": {},
   "source": [
    "##  3.Write a Python program to find maximum and the minimum value in a set."
   ]
  },
  {
   "cell_type": "code",
   "execution_count": 13,
   "metadata": {},
   "outputs": [
    {
     "name": "stdout",
     "output_type": "stream",
     "text": [
      "Minimum value in set:  1\n",
      "Maximum value in set:  44\n"
     ]
    }
   ],
   "source": [
    "s={10,20,44,1,33}\n",
    "print(\"Minimum value in set: \",min(s))\n",
    "print(\"Maximum value in set: \",max(s))"
   ]
  },
  {
   "cell_type": "markdown",
   "metadata": {},
   "source": [
    "## 4.Write a Python program to find the length of a set.\n"
   ]
  },
  {
   "cell_type": "code",
   "execution_count": 15,
   "metadata": {},
   "outputs": [
    {
     "name": "stdout",
     "output_type": "stream",
     "text": [
      "Length of the set:  6\n"
     ]
    }
   ],
   "source": [
    "s={0,1,2,4,7,5}\n",
    "print(\"Length of the set: \",len(s))"
   ]
  },
  {
   "cell_type": "code",
   "execution_count": null,
   "metadata": {},
   "outputs": [],
   "source": []
  }
 ],
 "metadata": {
  "kernelspec": {
   "display_name": "Python 3",
   "language": "python",
   "name": "python3"
  },
  "language_info": {
   "codemirror_mode": {
    "name": "ipython",
    "version": 3
   },
   "file_extension": ".py",
   "mimetype": "text/x-python",
   "name": "python",
   "nbconvert_exporter": "python",
   "pygments_lexer": "ipython3",
   "version": "3.8.5"
  }
 },
 "nbformat": 4,
 "nbformat_minor": 4
}
