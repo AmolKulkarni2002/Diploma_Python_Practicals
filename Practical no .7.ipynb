{
 "cells": [
  {
   "cell_type": "markdown",
   "metadata": {},
   "source": [
    "## 1. Create a tuple and find the minimum and maximum number from it."
   ]
  },
  {
   "cell_type": "code",
   "execution_count": null,
   "metadata": {},
   "outputs": [],
   "source": [
    "t=(10,1,2,4,44,5,6,4)\n",
    "print(\"Minimum no.:\",min(t))\n",
    "print(\"Maximum no.:\",max(t))"
   ]
  },
  {
   "cell_type": "markdown",
   "metadata": {},
   "source": [
    "## 2. Write a Python program to find the repeated items of a tuple."
   ]
  },
  {
   "cell_type": "code",
   "execution_count": null,
   "metadata": {},
   "outputs": [],
   "source": [
    "tup=(1,3,4,32,1,1,1,31,32,12,21,2,3)  \n",
    "for i in range(len(tup)):\n",
    "    if tup.count(i) > 1:\n",
    "        print(\"Repeated numbers:\",i)\n",
    "\n",
    "\n",
    "'''tup=(1,22,33,33,22,4,5,6,77,77,8)\n",
    "print([i for i in tup if tup.count(i)>1])'''\n",
    "\n"
   ]
  },
  {
   "cell_type": "markdown",
   "metadata": {},
   "source": [
    "## 3. Print the number in words for Example: 1234 => One Two Three Four"
   ]
  },
  {
   "cell_type": "code",
   "execution_count": null,
   "metadata": {},
   "outputs": [],
   "source": [
    "num=int(input(\"Enter the integers: \"))\n",
    "word=(\"Zero\",\"One\",\"Two\",\"Three\",\"Four\",\"Five\",\"Six\",\"Seven\",\"Eight\",\"Nine\")\n",
    "for dig in str(num): print(word[int(dig)], end=\" \")\n"
   ]
  }
 ],
 "metadata": {
  "kernelspec": {
   "display_name": "Python 3",
   "language": "python",
   "name": "python3"
  },
  "language_info": {
   "codemirror_mode": {
    "name": "ipython",
    "version": 3
   },
   "file_extension": ".py",
   "mimetype": "text/x-python",
   "name": "python",
   "nbconvert_exporter": "python",
   "pygments_lexer": "ipython3",
   "version": "3.8.5"
  }
 },
 "nbformat": 4,
 "nbformat_minor": 4
}
