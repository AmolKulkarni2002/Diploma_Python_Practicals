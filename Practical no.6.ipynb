{
 "cells": [
  {
   "cell_type": "markdown",
   "metadata": {},
   "source": [
    "## 1.write a python program to sum all the items in a list"
   ]
  },
  {
   "cell_type": "code",
   "execution_count": null,
   "metadata": {},
   "outputs": [],
   "source": [
    "sum=0\n",
    "[sum := sum + x for x in[1,2,3,4]]\n",
    "print(sum)\n",
    "\n",
    "'''list1=[1,2,3,4]\n",
    "sum=0\n",
    "for i in list1:\n",
    "    sum=sum+i\n",
    "print(sum)'''"
   ]
  },
  {
   "cell_type": "markdown",
   "metadata": {},
   "source": [
    "## 2.Write a program to multiplies all the items in a list"
   ]
  },
  {
   "cell_type": "code",
   "execution_count": null,
   "metadata": {},
   "outputs": [],
   "source": [
    "mul=1\n",
    "[mul := mul * x for x in [1, 2, 3, 4]]\n",
    "print(mul)\n",
    "\n",
    "\n",
    "'''list1=[1,2,3,4]\n",
    "mul=1\n",
    "for i in list1:\n",
    "    mul=mul*i\n",
    "print(mul)'''"
   ]
  },
  {
   "cell_type": "markdown",
   "metadata": {},
   "source": [
    "## 3.write a python to get the largest number from the list"
   ]
  },
  {
   "cell_type": "code",
   "execution_count": null,
   "metadata": {},
   "outputs": [],
   "source": [
    "list1 = [10, 20,30,40]\n",
    "print(\"Largest element is:\", max(list1))"
   ]
  },
  {
   "cell_type": "markdown",
   "metadata": {},
   "source": [
    "## 4.write a python to get the smallest number from the list"
   ]
  },
  {
   "cell_type": "code",
   "execution_count": null,
   "metadata": {},
   "outputs": [],
   "source": [
    "list1 = [10, 20,30,40]\n",
    "print(\"Largest element is:\", min(list1))"
   ]
  },
  {
   "cell_type": "markdown",
   "metadata": {},
   "source": [
    "## 5.write a program to reverse a list "
   ]
  },
  {
   "cell_type": "code",
   "execution_count": null,
   "metadata": {},
   "outputs": [],
   "source": [
    "list=[1,2,3,4,5]\n",
    "ans=list[::-1]\n",
    "print(\"reversed list :\",ans)"
   ]
  },
  {
   "cell_type": "markdown",
   "metadata": {},
   "source": [
    "## 6.write a python to find common items from two lists"
   ]
  },
  {
   "cell_type": "code",
   "execution_count": null,
   "metadata": {},
   "outputs": [],
   "source": [
    "list1 = [10,20,30,40,50,60]\n",
    "list2 = [10,50,70,80,90,100]\n",
    "sameItem = [element for element in list1 if element in list2]\n",
    "print(\"Common Elements in list1 and list2: \",sameItem)"
   ]
  },
  {
   "cell_type": "markdown",
   "metadata": {},
   "source": [
    "## 7. Write a Python to select the evem item of a list "
   ]
  },
  {
   "cell_type": "code",
   "execution_count": null,
   "metadata": {},
   "outputs": [],
   "source": [
    "print([list for list in[1,2,3,4] if list%2 == 0])\n",
    "\n",
    "'''list1 = [1,2,3,4,5,6,7,8,9,10]\n",
    "for num in list1:\n",
    "   if num % 2 == 0:\n",
    "      print(num, end = \" \")'''"
   ]
  }
 ],
 "metadata": {
  "kernelspec": {
   "display_name": "Python 3",
   "language": "python",
   "name": "python3"
  },
  "language_info": {
   "codemirror_mode": {
    "name": "ipython",
    "version": 3
   },
   "file_extension": ".py",
   "mimetype": "text/x-python",
   "name": "python",
   "nbconvert_exporter": "python",
   "pygments_lexer": "ipython3",
   "version": "3.8.5"
  }
 },
 "nbformat": 4,
 "nbformat_minor": 4
}
