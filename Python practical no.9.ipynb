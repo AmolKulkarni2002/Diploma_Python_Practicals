{
 "cells": [
  {
   "cell_type": "markdown",
   "metadata": {},
   "source": [
    "## 1. Write a Python script to sort (ascending and descending) a dictionary by value"
   ]
  },
  {
   "cell_type": "code",
   "execution_count": 4,
   "metadata": {},
   "outputs": [
    {
     "name": "stdout",
     "output_type": "stream",
     "text": [
      "ascending order: {'one': 1, 'two': 2, 'three': 3, 'four': 4}\n",
      "descending order: {'four': 4, 'three': 3, 'two': 2, 'one': 1}\n"
     ]
    }
   ],
   "source": [
    "dict1={\"one\":1,\"three\":3,\"two\":2,\"four\":4}\n",
    "k=list(dict1.keys())\n",
    "v=list(dict1.values())\n",
    "sd={}\n",
    "\n",
    "for i in sorted(dict1.values()):\n",
    "    sd[k[v.index(i)]]=i\n",
    "print(\"ascending order:\",sd)\n",
    "sd.clear()\n",
    "\n",
    "for i in sorted(dict1.values(),reverse=True):\n",
    "    sd[k[v.index(i)]]=i\n",
    "print(\"descending order:\",sd)"
   ]
  },
  {
   "cell_type": "markdown",
   "metadata": {},
   "source": [
    "## 2. Write a Python script to concatenate following dictionaries to create a new one."
   ]
  },
  {
   "cell_type": "code",
   "execution_count": 3,
   "metadata": {},
   "outputs": [
    {
     "name": "stdout",
     "output_type": "stream",
     "text": [
      "{1: 20, 2: 20, 3: 30, 4: 40, 5: 50, 6: 60}\n"
     ]
    }
   ],
   "source": [
    "#a. Sample Dictionary: \n",
    "#b. dic1 = {1:10, 2:20} \n",
    "#c. dic2 = {3:30, 4:40} \n",
    "#d. dic3 = {5:50,6:60}\n",
    "\n",
    "dic1={1:20 , 2:20}\n",
    "dic2={3:30 , 4:40}\n",
    "dic3={5:50 , 6:60}\n",
    "dic4={}\n",
    "for i in (dic1,dic2,dic3):\n",
    "    dic4.update(i)\n",
    "print(dic4)"
   ]
  },
  {
   "cell_type": "markdown",
   "metadata": {},
   "source": [
    "## 3. Write a Python program to combine two dictionary adding values for common keys."
   ]
  },
  {
   "cell_type": "code",
   "execution_count": 8,
   "metadata": {},
   "outputs": [
    {
     "name": "stdout",
     "output_type": "stream",
     "text": [
      "{'a': 400, 'b': 400, 'c': 300}\n"
     ]
    }
   ],
   "source": [
    "#a. d1 = {'a': 100, 'b': 200, 'c':300}\n",
    "#b. d2 = {'a': 300, 'b': 200, 'd':400}\n",
    "\n",
    "d1 = {'a': 100, 'b': 200, 'c':300}\n",
    "d2 = {'a': 300, 'b': 200, 'd':400}\n",
    "\n",
    "for i in d1:\n",
    "    if i in d2:\n",
    "        d1[i]+=d2[i]\n",
    "print(d1)\n"
   ]
  },
  {
   "cell_type": "markdown",
   "metadata": {},
   "source": [
    "## 4. Write a Python program to print all unique values in a dictionary."
   ]
  },
  {
   "cell_type": "code",
   "execution_count": 9,
   "metadata": {},
   "outputs": [
    {
     "name": "stdout",
     "output_type": "stream",
     "text": [
      "{'S002', 'S001', 'S005', 'S009', 'S007'}\n"
     ]
    }
   ],
   "source": [
    "#a. Sample Data: [{\"V\":\"S001\"}, {\"V\": \"S002\"}, {\"VI\": \"S001\"}, {\"VI\": \"S005\"}, \n",
    "#{\"VII\":\"S005\"}, {\"V\":\"S009\"}, {\"VIII\":\"S007\"}]\n",
    "\n",
    "list =  [{\"V\":\"S001\"}, {\"V\": \"S002\"}, {\"VI\": \"S001\"}, {\"VI\": \"S005\"}, \n",
    "{\"VII\":\"S005\"}, {\"V\":\"S009\"}, {\"VIII\":\"S007\"}]\n",
    "s =set( val for dic in list for val in dic.values())\n",
    "print(s) "
   ]
  },
  {
   "cell_type": "markdown",
   "metadata": {},
   "source": [
    "## 5. Write a Python program to find the highest 3 values in a dictionary. "
   ]
  },
  {
   "cell_type": "code",
   "execution_count": null,
   "metadata": {},
   "outputs": [],
   "source": [
    "d = {'a': 200, 'b': 100, 'c': 300, 'd': 50, 'e': 600}\n",
    "for i in range(3):\n",
    "    print(sorted(d.values(), reverse=True)[i])"
   ]
  }
 ],
 "metadata": {
  "kernelspec": {
   "display_name": "Python 3",
   "language": "python",
   "name": "python3"
  },
  "language_info": {
   "codemirror_mode": {
    "name": "ipython",
    "version": 3
   },
   "file_extension": ".py",
   "mimetype": "text/x-python",
   "name": "python",
   "nbconvert_exporter": "python",
   "pygments_lexer": "ipython3",
   "version": "3.8.5"
  }
 },
 "nbformat": 4,
 "nbformat_minor": 4
}
