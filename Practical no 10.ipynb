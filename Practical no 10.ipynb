{
 "cells": [
  {
   "cell_type": "markdown",
   "metadata": {},
   "source": [
    "## 1. Write a Python function that accepts a string and calculate the number of upper case letters and lower case letters.\n"
   ]
  },
  {
   "cell_type": "code",
   "execution_count": 1,
   "metadata": {},
   "outputs": [
    {
     "name": "stdout",
     "output_type": "stream",
     "text": [
      "Enter a string: Amol Kukarni\n",
      "Total no. of lower cases letters:  9\n",
      "Total no. of upper cases letters:  2\n"
     ]
    }
   ],
   "source": [
    "def uplow():\n",
    "    str=input(\"Enter a string: \")\n",
    "    low=0\n",
    "    upp=0\n",
    "    for i in str:\n",
    "        if (i.islower()):\n",
    "            low=low+1\n",
    "        elif (i.isupper()):\n",
    "            upp=upp+1\n",
    "        else:\n",
    "            pass\n",
    "    print(\"Total no. of lower cases letters: \",low)\n",
    "    print(\"Total no. of upper cases letters: \",upp)\n",
    "\n",
    "uplow()"
   ]
  },
  {
   "cell_type": "markdown",
   "metadata": {},
   "source": [
    "## 2. Write a Python program to generate a random float where the value is between 5 and 50 using Python math module\n"
   ]
  },
  {
   "cell_type": "code",
   "execution_count": 2,
   "metadata": {},
   "outputs": [
    {
     "name": "stdout",
     "output_type": "stream",
     "text": [
      "Random float number between in given rang is:  12.020964099768214\n"
     ]
    }
   ],
   "source": [
    "import random as r\n",
    "print(\"Random float number between in given rang is: \", r.uniform(5.0,50.0))"
   ]
  },
  {
   "cell_type": "code",
   "execution_count": null,
   "metadata": {},
   "outputs": [],
   "source": []
  }
 ],
 "metadata": {
  "kernelspec": {
   "display_name": "Python 3",
   "language": "python",
   "name": "python3"
  },
  "language_info": {
   "codemirror_mode": {
    "name": "ipython",
    "version": 3
   },
   "file_extension": ".py",
   "mimetype": "text/x-python",
   "name": "python",
   "nbconvert_exporter": "python",
   "pygments_lexer": "ipython3",
   "version": "3.8.5"
  }
 },
 "nbformat": 4,
 "nbformat_minor": 4
}
