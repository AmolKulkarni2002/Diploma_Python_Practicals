{
 "cells": [
  {
   "cell_type": "markdown",
   "metadata": {},
   "source": [
    "## 1. Write a Python program to create two matrices and perform addition, subtraction, multiplication and division operation on matrix "
   ]
  },
  {
   "cell_type": "code",
   "execution_count": 2,
   "metadata": {},
   "outputs": [
    {
     "name": "stdout",
     "output_type": "stream",
     "text": [
      "Addition of two matrices: \n",
      "[[ 5  9]\n",
      " [ 9 20]]\n",
      "Subtraction of two matrices : \n",
      "[[ 1 -5]\n",
      " [-1  0]]\n",
      "Matrix Division :\n",
      "[[1.5        0.28571429]\n",
      " [0.8        1.        ]]\n",
      "Multiplication of two matrices: \n",
      "[[  6  14]\n",
      " [ 20 100]]\n"
     ]
    }
   ],
   "source": [
    "import numpy as np\n",
    "\n",
    "x = np.array([[3, 2], [4, 10]])\n",
    "y = np.array([[2, 7], [5, 10]])\n",
    "print (\"Addition of two matrices: \")\n",
    "print (np.add(x,y))\n",
    "print (\"Subtraction of two matrices : \")\n",
    "print (np.subtract(x,y))\n",
    "print (\"Matrix Division :\")\n",
    "print (np.divide(x,y))\n",
    "print (\"Multiplication of two matrices: \")\n",
    "print (np.multiply(x,y))"
   ]
  },
  {
   "cell_type": "markdown",
   "metadata": {},
   "source": [
    "## 2.Write a Python program to concatenate two strings.\n"
   ]
  },
  {
   "cell_type": "code",
   "execution_count": 3,
   "metadata": {},
   "outputs": [
    {
     "name": "stdout",
     "output_type": "stream",
     "text": [
      "Concatenate string:  Amol Kulkarni\n"
     ]
    }
   ],
   "source": [
    "str1 = \"Amol \"  \n",
    "str2 = \"Kulkarni\"  \n",
    "str3 = str1 + str2  \n",
    "print(\"Concatenate string: \",str3) "
   ]
  },
  {
   "cell_type": "markdown",
   "metadata": {},
   "source": [
    "## 3.Write a NumPy program to generate six random integers between 10 and 30"
   ]
  },
  {
   "cell_type": "code",
   "execution_count": 4,
   "metadata": {},
   "outputs": [
    {
     "name": "stdout",
     "output_type": "stream",
     "text": [
      "[11 17 16 15 17 18]\n"
     ]
    }
   ],
   "source": [
    "import numpy as np\n",
    "x = np.random.randint(low=10, high=30, size=6)\n",
    "print(x)"
   ]
  },
  {
   "cell_type": "code",
   "execution_count": null,
   "metadata": {},
   "outputs": [],
   "source": []
  }
 ],
 "metadata": {
  "kernelspec": {
   "display_name": "Python 3",
   "language": "python",
   "name": "python3"
  },
  "language_info": {
   "codemirror_mode": {
    "name": "ipython",
    "version": 3
   },
   "file_extension": ".py",
   "mimetype": "text/x-python",
   "name": "python",
   "nbconvert_exporter": "python",
   "pygments_lexer": "ipython3",
   "version": "3.8.5"
  }
 },
 "nbformat": 4,
 "nbformat_minor": 4
}
